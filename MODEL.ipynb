{
 "cells": [
  {
   "cell_type": "code",
   "execution_count": 1,
   "id": "0b742e9d",
   "metadata": {},
   "outputs": [],
   "source": [
    "import numpy as np\n",
    "import pandas as pd\n",
    "import matplotlib.pyplot as plt\n",
    "import seaborn as sns\n",
    "import os"
   ]
  },
  {
   "cell_type": "code",
   "execution_count": 2,
   "id": "70f938c8",
   "metadata": {
    "scrolled": false
   },
   "outputs": [
    {
     "data": {
      "text/html": [
       "<div>\n",
       "<style scoped>\n",
       "    .dataframe tbody tr th:only-of-type {\n",
       "        vertical-align: middle;\n",
       "    }\n",
       "\n",
       "    .dataframe tbody tr th {\n",
       "        vertical-align: top;\n",
       "    }\n",
       "\n",
       "    .dataframe thead th {\n",
       "        text-align: right;\n",
       "    }\n",
       "</style>\n",
       "<table border=\"1\" class=\"dataframe\">\n",
       "  <thead>\n",
       "    <tr style=\"text-align: right;\">\n",
       "      <th></th>\n",
       "      <th>Date/Time</th>\n",
       "      <th>Hs</th>\n",
       "      <th>Hmax</th>\n",
       "      <th>Tz</th>\n",
       "      <th>Tp</th>\n",
       "      <th>Peak Direction</th>\n",
       "      <th>SST</th>\n",
       "    </tr>\n",
       "  </thead>\n",
       "  <tbody>\n",
       "    <tr>\n",
       "      <th>0</th>\n",
       "      <td>2021-01-01T00:00</td>\n",
       "      <td>-99.900</td>\n",
       "      <td>-99.90</td>\n",
       "      <td>-99.900</td>\n",
       "      <td>-99.900</td>\n",
       "      <td>-99.90</td>\n",
       "      <td>-99.90</td>\n",
       "    </tr>\n",
       "    <tr>\n",
       "      <th>1</th>\n",
       "      <td>2021-01-01T00:30</td>\n",
       "      <td>0.716</td>\n",
       "      <td>1.52</td>\n",
       "      <td>3.468</td>\n",
       "      <td>4.060</td>\n",
       "      <td>-99.90</td>\n",
       "      <td>-99.90</td>\n",
       "    </tr>\n",
       "    <tr>\n",
       "      <th>2</th>\n",
       "      <td>2021-01-01T01:00</td>\n",
       "      <td>0.680</td>\n",
       "      <td>1.29</td>\n",
       "      <td>3.398</td>\n",
       "      <td>4.475</td>\n",
       "      <td>95.43</td>\n",
       "      <td>29.25</td>\n",
       "    </tr>\n",
       "    <tr>\n",
       "      <th>3</th>\n",
       "      <td>2021-01-01T01:30</td>\n",
       "      <td>0.646</td>\n",
       "      <td>1.15</td>\n",
       "      <td>3.424</td>\n",
       "      <td>4.584</td>\n",
       "      <td>90.43</td>\n",
       "      <td>29.25</td>\n",
       "    </tr>\n",
       "    <tr>\n",
       "      <th>4</th>\n",
       "      <td>2021-01-01T02:00</td>\n",
       "      <td>0.615</td>\n",
       "      <td>1.14</td>\n",
       "      <td>3.328</td>\n",
       "      <td>4.509</td>\n",
       "      <td>87.43</td>\n",
       "      <td>29.15</td>\n",
       "    </tr>\n",
       "    <tr>\n",
       "      <th>...</th>\n",
       "      <td>...</td>\n",
       "      <td>...</td>\n",
       "      <td>...</td>\n",
       "      <td>...</td>\n",
       "      <td>...</td>\n",
       "      <td>...</td>\n",
       "      <td>...</td>\n",
       "    </tr>\n",
       "    <tr>\n",
       "      <th>95</th>\n",
       "      <td>2021-01-02T23:30</td>\n",
       "      <td>0.492</td>\n",
       "      <td>0.99</td>\n",
       "      <td>3.027</td>\n",
       "      <td>4.956</td>\n",
       "      <td>82.43</td>\n",
       "      <td>28.50</td>\n",
       "    </tr>\n",
       "    <tr>\n",
       "      <th>96</th>\n",
       "      <td>2021-01-03T00:00</td>\n",
       "      <td>0.513</td>\n",
       "      <td>1.06</td>\n",
       "      <td>3.185</td>\n",
       "      <td>3.306</td>\n",
       "      <td>87.43</td>\n",
       "      <td>28.50</td>\n",
       "    </tr>\n",
       "    <tr>\n",
       "      <th>97</th>\n",
       "      <td>2021-01-03T00:30</td>\n",
       "      <td>0.531</td>\n",
       "      <td>0.97</td>\n",
       "      <td>3.148</td>\n",
       "      <td>4.034</td>\n",
       "      <td>91.43</td>\n",
       "      <td>28.50</td>\n",
       "    </tr>\n",
       "    <tr>\n",
       "      <th>98</th>\n",
       "      <td>2021-01-03T01:00</td>\n",
       "      <td>0.518</td>\n",
       "      <td>0.99</td>\n",
       "      <td>3.222</td>\n",
       "      <td>3.369</td>\n",
       "      <td>97.43</td>\n",
       "      <td>28.45</td>\n",
       "    </tr>\n",
       "    <tr>\n",
       "      <th>99</th>\n",
       "      <td>2021-01-03T01:30</td>\n",
       "      <td>0.547</td>\n",
       "      <td>0.90</td>\n",
       "      <td>3.292</td>\n",
       "      <td>3.907</td>\n",
       "      <td>97.43</td>\n",
       "      <td>28.50</td>\n",
       "    </tr>\n",
       "  </tbody>\n",
       "</table>\n",
       "<p>100 rows × 7 columns</p>\n",
       "</div>"
      ],
      "text/plain": [
       "           Date/Time      Hs   Hmax      Tz      Tp  Peak Direction    SST\n",
       "0   2021-01-01T00:00 -99.900 -99.90 -99.900 -99.900          -99.90 -99.90\n",
       "1   2021-01-01T00:30   0.716   1.52   3.468   4.060          -99.90 -99.90\n",
       "2   2021-01-01T01:00   0.680   1.29   3.398   4.475           95.43  29.25\n",
       "3   2021-01-01T01:30   0.646   1.15   3.424   4.584           90.43  29.25\n",
       "4   2021-01-01T02:00   0.615   1.14   3.328   4.509           87.43  29.15\n",
       "..               ...     ...    ...     ...     ...             ...    ...\n",
       "95  2021-01-02T23:30   0.492   0.99   3.027   4.956           82.43  28.50\n",
       "96  2021-01-03T00:00   0.513   1.06   3.185   3.306           87.43  28.50\n",
       "97  2021-01-03T00:30   0.531   0.97   3.148   4.034           91.43  28.50\n",
       "98  2021-01-03T01:00   0.518   0.99   3.222   3.369           97.43  28.45\n",
       "99  2021-01-03T01:30   0.547   0.90   3.292   3.907           97.43  28.50\n",
       "\n",
       "[100 rows x 7 columns]"
      ]
     },
     "execution_count": 2,
     "metadata": {},
     "output_type": "execute_result"
    }
   ],
   "source": [
    "df = pd.read_csv('./wavesData.csv')\n",
    "df.head(100)"
   ]
  },
  {
   "cell_type": "code",
   "execution_count": 3,
   "id": "f6464a5e",
   "metadata": {},
   "outputs": [
    {
     "data": {
      "text/html": [
       "<div>\n",
       "<style scoped>\n",
       "    .dataframe tbody tr th:only-of-type {\n",
       "        vertical-align: middle;\n",
       "    }\n",
       "\n",
       "    .dataframe tbody tr th {\n",
       "        vertical-align: top;\n",
       "    }\n",
       "\n",
       "    .dataframe thead th {\n",
       "        text-align: right;\n",
       "    }\n",
       "</style>\n",
       "<table border=\"1\" class=\"dataframe\">\n",
       "  <thead>\n",
       "    <tr style=\"text-align: right;\">\n",
       "      <th></th>\n",
       "      <th>Hs</th>\n",
       "      <th>Hmax</th>\n",
       "      <th>Tz</th>\n",
       "      <th>Tp</th>\n",
       "      <th>Peak Direction</th>\n",
       "      <th>SST</th>\n",
       "    </tr>\n",
       "  </thead>\n",
       "  <tbody>\n",
       "    <tr>\n",
       "      <th>0</th>\n",
       "      <td>0.680</td>\n",
       "      <td>1.29</td>\n",
       "      <td>3.398</td>\n",
       "      <td>4.475</td>\n",
       "      <td>95.43</td>\n",
       "      <td>29.25</td>\n",
       "    </tr>\n",
       "    <tr>\n",
       "      <th>1</th>\n",
       "      <td>0.646</td>\n",
       "      <td>1.15</td>\n",
       "      <td>3.424</td>\n",
       "      <td>4.584</td>\n",
       "      <td>90.43</td>\n",
       "      <td>29.25</td>\n",
       "    </tr>\n",
       "    <tr>\n",
       "      <th>2</th>\n",
       "      <td>0.615</td>\n",
       "      <td>1.14</td>\n",
       "      <td>3.328</td>\n",
       "      <td>4.509</td>\n",
       "      <td>87.43</td>\n",
       "      <td>29.15</td>\n",
       "    </tr>\n",
       "    <tr>\n",
       "      <th>3</th>\n",
       "      <td>0.696</td>\n",
       "      <td>1.43</td>\n",
       "      <td>3.267</td>\n",
       "      <td>3.762</td>\n",
       "      <td>98.43</td>\n",
       "      <td>29.10</td>\n",
       "    </tr>\n",
       "    <tr>\n",
       "      <th>4</th>\n",
       "      <td>0.755</td>\n",
       "      <td>1.41</td>\n",
       "      <td>3.246</td>\n",
       "      <td>4.047</td>\n",
       "      <td>88.43</td>\n",
       "      <td>29.00</td>\n",
       "    </tr>\n",
       "  </tbody>\n",
       "</table>\n",
       "</div>"
      ],
      "text/plain": [
       "      Hs  Hmax     Tz     Tp  Peak Direction    SST\n",
       "0  0.680  1.29  3.398  4.475           95.43  29.25\n",
       "1  0.646  1.15  3.424  4.584           90.43  29.25\n",
       "2  0.615  1.14  3.328  4.509           87.43  29.15\n",
       "3  0.696  1.43  3.267  3.762           98.43  29.10\n",
       "4  0.755  1.41  3.246  4.047           88.43  29.00"
      ]
     },
     "execution_count": 3,
     "metadata": {},
     "output_type": "execute_result"
    }
   ],
   "source": [
    "df.replace(-99.90, np.nan, inplace=True)\n",
    "df.drop('Date/Time', axis=1, inplace=True)\n",
    "df.dropna(inplace=True)\n",
    "df.reset_index(drop=True, inplace=True)\n",
    "df.head()"
   ]
  },
  {
   "cell_type": "code",
   "execution_count": 4,
   "id": "3ebef12f",
   "metadata": {},
   "outputs": [
    {
     "name": "stdout",
     "output_type": "stream",
     "text": [
      "<class 'pandas.core.frame.DataFrame'>\n",
      "RangeIndex: 11813 entries, 0 to 11812\n",
      "Data columns (total 6 columns):\n",
      " #   Column          Non-Null Count  Dtype  \n",
      "---  ------          --------------  -----  \n",
      " 0   Hs              11813 non-null  float64\n",
      " 1   Hmax            11813 non-null  float64\n",
      " 2   Tz              11813 non-null  float64\n",
      " 3   Tp              11813 non-null  float64\n",
      " 4   Peak Direction  11813 non-null  float64\n",
      " 5   SST             11813 non-null  float64\n",
      "dtypes: float64(6)\n",
      "memory usage: 553.9 KB\n"
     ]
    }
   ],
   "source": [
    "df.info()"
   ]
  },
  {
   "cell_type": "code",
   "execution_count": 5,
   "id": "f9492c8a",
   "metadata": {
    "scrolled": true
   },
   "outputs": [],
   "source": [
    "from sklearn.preprocessing import MinMaxScaler\n",
    "scaler = MinMaxScaler(feature_range=(0,1))\n",
    "\n",
    "# Scaling all the values between 0 and 1\n",
    "def scaleValues(data):\n",
    "    \n",
    "    data_Hs = np.array(data).reshape(-1, 1)\n",
    "    scaler.fit(data_Hs)\n",
    "    data = scaler.transform(data_Hs)\n",
    "    return data"
   ]
  },
  {
   "cell_type": "code",
   "execution_count": 6,
   "id": "d90aad07",
   "metadata": {},
   "outputs": [
    {
     "data": {
      "text/plain": [
       "array([[0.25777377],\n",
       "       [0.24245155],\n",
       "       [0.2284813 ],\n",
       "       ...,\n",
       "       [0.14691302],\n",
       "       [0.15457413],\n",
       "       [0.1762055 ]])"
      ]
     },
     "execution_count": 6,
     "metadata": {},
     "output_type": "execute_result"
    }
   ],
   "source": [
    "data = scaleValues(df[\"Hs\"])\n",
    "data"
   ]
  },
  {
   "cell_type": "code",
   "execution_count": 7,
   "id": "b9ed4888",
   "metadata": {},
   "outputs": [
    {
     "name": "stdout",
     "output_type": "stream",
     "text": [
      "Shape of train data:  (9450, 1)\n",
      "Shape of test data:  (2363, 1)\n"
     ]
    }
   ],
   "source": [
    "# Separete data into 2 groups for train and test\n",
    "import math\n",
    "\n",
    "partition = math.floor(len(data) * 0.8)\n",
    "train = data[:partition,]\n",
    "test = data[partition: ,]\n",
    "\n",
    "# Shapes of our datasets\n",
    "print('Shape of train data: ', train.shape)\n",
    "print('Shape of test data: ', test.shape)"
   ]
  },
  {
   "cell_type": "code",
   "execution_count": 8,
   "id": "6e71a11b",
   "metadata": {},
   "outputs": [],
   "source": [
    "# Separete every 30 samples as the input and get the 31st sample as the output.\n",
    "def prepare_data(data):\n",
    "    databatch = 30\n",
    "    x_list = []\n",
    "    y_list = []\n",
    "    \n",
    "    for i in range(len(data)-databatch-1):\n",
    "        x_list.append(data[i:i+databatch])\n",
    "        y_list.append(data[i+databatch+1])\n",
    "        \n",
    "    X_data = np.array(x_list)\n",
    "    X_data = np.reshape(X_data, (X_data.shape[0], X_data.shape[2], X_data.shape[1]))\n",
    "    y_data = np.array(y_list)\n",
    "    \n",
    "    return X_data, y_data\n"
   ]
  },
  {
   "cell_type": "code",
   "execution_count": 9,
   "id": "987bae95",
   "metadata": {},
   "outputs": [
    {
     "name": "stdout",
     "output_type": "stream",
     "text": [
      "X_train Shape :  (9419, 1, 30) y_train shape : (9419, 1)\n",
      "X_test Shape  :  (2332, 1, 30)  y_test shape  : (2332, 1)\n"
     ]
    }
   ],
   "source": [
    "# Executing the separation\n",
    "X_train, y_train = prepare_data(train)\n",
    "X_test, y_test = prepare_data(test)\n",
    "print('X_train Shape : ', X_train.shape, 'y_train shape :', y_train.shape)\n",
    "print('X_test Shape  : ', X_test.shape, ' y_test shape  :', y_test.shape)"
   ]
  },
  {
   "cell_type": "code",
   "execution_count": 10,
   "id": "31f49699",
   "metadata": {},
   "outputs": [
    {
     "data": {
      "text/plain": [
       "array([[[0.25777377, 0.24245155, 0.2284813 , ..., 0.13114015,\n",
       "         0.12257774, 0.10950879]],\n",
       "\n",
       "       [[0.24245155, 0.2284813 , 0.26498423, ..., 0.12257774,\n",
       "         0.10950879, 0.124831  ]],\n",
       "\n",
       "       [[0.2284813 , 0.26498423, 0.29157278, ..., 0.10950879,\n",
       "         0.124831  , 0.11897251]],\n",
       "\n",
       "       ...,\n",
       "\n",
       "       [[0.08877873, 0.08652546, 0.08742677, ..., 0.17169896,\n",
       "         0.13654799, 0.12978819]],\n",
       "\n",
       "       [[0.08652546, 0.08742677, 0.09148265, ..., 0.13654799,\n",
       "         0.12978819, 0.11942316]],\n",
       "\n",
       "       [[0.08742677, 0.09148265, 0.09734114, ..., 0.12978819,\n",
       "         0.11942316, 0.10815683]]])"
      ]
     },
     "execution_count": 10,
     "metadata": {},
     "output_type": "execute_result"
    }
   ],
   "source": [
    "X_train"
   ]
  },
  {
   "cell_type": "code",
   "execution_count": 11,
   "id": "3d3159d0",
   "metadata": {},
   "outputs": [],
   "source": [
    "from keras.models import Sequential\n",
    "from keras.layers import Dense, Dropout, LSTM\n",
    "from keras.optimizers.legacy import Adam\n",
    "from keras.callbacks import ModelCheckpoint\n",
    "\n",
    "def lstm_model(x_data, y_data, num_epochs, batch_size, learning_rate):\n",
    "    # Creating the model\n",
    "    model = Sequential()\n",
    "    # Adding the first layer\n",
    "    model.add(LSTM(16, input_shape=(x_data.shape[1], x_data.shape[2]), return_sequences=False))\n",
    "    # Adding the second layer \n",
    "#     model.add(LSTM(16, return_sequences=False))\n",
    "    # Adding a dropout value in order to prevent overfiting\n",
    "    model.add(Dropout(0.2))\n",
    "     # Adding the third layer\n",
    "#     model.add(LSTM(10))\n",
    "    # Adding the output layer. 6 nodes are selected because the data has 6 features\n",
    "    model.add(Dense(1))\n",
    "    \n",
    "    # Choosing the optimizer\n",
    "    optimizer = Adam(learning_rate=learning_rate)\n",
    "    \n",
    "    # Compiling the model\n",
    "    model.compile(loss='mean_squared_error', optimizer=optimizer, metrics=['accuracy'])\n",
    "    \n",
    "    # Fitting the model\n",
    "    history = model.fit(x_data, y_data, validation_split=0.25, epochs=num_epochs, batch_size=batch_size)\n",
    "    \n",
    "    return model, history"
   ]
  },
  {
   "cell_type": "code",
   "execution_count": 12,
   "id": "fde352ed",
   "metadata": {
    "scrolled": false
   },
   "outputs": [
    {
     "name": "stdout",
     "output_type": "stream",
     "text": [
      "Epoch 1/20\n",
      "36/36 [==============================] - 1s 5ms/step - loss: 0.0204 - accuracy: 1.4156e-04 - val_loss: 0.0031 - val_accuracy: 0.0000e+00\n",
      "Epoch 2/20\n",
      "36/36 [==============================] - 0s 927us/step - loss: 0.0082 - accuracy: 2.8313e-04 - val_loss: 0.0025 - val_accuracy: 0.0000e+00\n",
      "Epoch 3/20\n",
      "36/36 [==============================] - 0s 875us/step - loss: 0.0066 - accuracy: 2.8313e-04 - val_loss: 0.0022 - val_accuracy: 0.0000e+00\n",
      "Epoch 4/20\n",
      "36/36 [==============================] - 0s 854us/step - loss: 0.0055 - accuracy: 2.8313e-04 - val_loss: 0.0019 - val_accuracy: 0.0000e+00\n",
      "Epoch 5/20\n",
      "36/36 [==============================] - 0s 850us/step - loss: 0.0047 - accuracy: 2.8313e-04 - val_loss: 0.0017 - val_accuracy: 0.0000e+00\n",
      "Epoch 6/20\n",
      "36/36 [==============================] - 0s 878us/step - loss: 0.0039 - accuracy: 2.8313e-04 - val_loss: 0.0015 - val_accuracy: 0.0000e+00\n",
      "Epoch 7/20\n",
      "36/36 [==============================] - 0s 898us/step - loss: 0.0036 - accuracy: 2.8313e-04 - val_loss: 0.0014 - val_accuracy: 0.0000e+00\n",
      "Epoch 8/20\n",
      "36/36 [==============================] - 0s 992us/step - loss: 0.0033 - accuracy: 2.8313e-04 - val_loss: 0.0014 - val_accuracy: 0.0000e+00\n",
      "Epoch 9/20\n",
      "36/36 [==============================] - 0s 917us/step - loss: 0.0033 - accuracy: 2.8313e-04 - val_loss: 0.0013 - val_accuracy: 0.0000e+00\n",
      "Epoch 10/20\n",
      "36/36 [==============================] - 0s 904us/step - loss: 0.0031 - accuracy: 2.8313e-04 - val_loss: 0.0013 - val_accuracy: 0.0000e+00\n",
      "Epoch 11/20\n",
      "36/36 [==============================] - 0s 872us/step - loss: 0.0030 - accuracy: 2.8313e-04 - val_loss: 0.0012 - val_accuracy: 0.0000e+00\n",
      "Epoch 12/20\n",
      "36/36 [==============================] - 0s 873us/step - loss: 0.0029 - accuracy: 2.8313e-04 - val_loss: 0.0012 - val_accuracy: 0.0000e+00\n",
      "Epoch 13/20\n",
      "36/36 [==============================] - 0s 882us/step - loss: 0.0027 - accuracy: 2.8313e-04 - val_loss: 0.0011 - val_accuracy: 0.0000e+00\n",
      "Epoch 14/20\n",
      "36/36 [==============================] - 0s 903us/step - loss: 0.0028 - accuracy: 2.8313e-04 - val_loss: 0.0011 - val_accuracy: 0.0000e+00\n",
      "Epoch 15/20\n",
      "36/36 [==============================] - 0s 875us/step - loss: 0.0026 - accuracy: 2.8313e-04 - val_loss: 0.0010 - val_accuracy: 0.0000e+00\n",
      "Epoch 16/20\n",
      "36/36 [==============================] - 0s 880us/step - loss: 0.0026 - accuracy: 2.8313e-04 - val_loss: 9.8124e-04 - val_accuracy: 0.0000e+00\n",
      "Epoch 17/20\n",
      "36/36 [==============================] - 0s 891us/step - loss: 0.0024 - accuracy: 2.8313e-04 - val_loss: 9.5318e-04 - val_accuracy: 0.0000e+00\n",
      "Epoch 18/20\n",
      "36/36 [==============================] - 0s 1ms/step - loss: 0.0023 - accuracy: 2.8313e-04 - val_loss: 9.4729e-04 - val_accuracy: 0.0000e+00\n",
      "Epoch 19/20\n",
      "36/36 [==============================] - 0s 912us/step - loss: 0.0023 - accuracy: 2.8313e-04 - val_loss: 8.8296e-04 - val_accuracy: 0.0000e+00\n",
      "Epoch 20/20\n",
      "36/36 [==============================] - 0s 905us/step - loss: 0.0022 - accuracy: 2.8313e-04 - val_loss: 8.6574e-04 - val_accuracy: 0.0000e+00\n"
     ]
    }
   ],
   "source": [
    "model,history = lstm_model(X_train, y_train, num_epochs=20, batch_size=200, learning_rate=.001)"
   ]
  },
  {
   "cell_type": "code",
   "execution_count": 13,
   "id": "10c7818b",
   "metadata": {},
   "outputs": [
    {
     "name": "stdout",
     "output_type": "stream",
     "text": [
      "Model: \"sequential\"\n",
      "_________________________________________________________________\n",
      " Layer (type)                Output Shape              Param #   \n",
      "=================================================================\n",
      " lstm (LSTM)                 (None, 16)                3008      \n",
      "                                                                 \n",
      " dropout (Dropout)           (None, 16)                0         \n",
      "                                                                 \n",
      " dense (Dense)               (None, 1)                 17        \n",
      "                                                                 \n",
      "=================================================================\n",
      "Total params: 3025 (11.82 KB)\n",
      "Trainable params: 3025 (11.82 KB)\n",
      "Non-trainable params: 0 (0.00 Byte)\n",
      "_________________________________________________________________\n"
     ]
    }
   ],
   "source": [
    "model.summary()"
   ]
  },
  {
   "cell_type": "markdown",
   "id": "f99cbf7e",
   "metadata": {},
   "source": [
    "model.summary()"
   ]
  },
  {
   "cell_type": "code",
   "execution_count": 14,
   "id": "2899c23b",
   "metadata": {},
   "outputs": [
    {
     "data": {
      "image/png": "[encoded data removed]",
      "text/plain": [
       "<Figure size 1500x500 with 1 Axes>"
      ]
     },
     "metadata": {},
     "output_type": "display_data"
    },
    {
     "data": {
      "text/plain": [
       "0.0022262586280703545"
      ]
     },
     "execution_count": 14,
     "metadata": {},
     "output_type": "execute_result"
    }
   ],
   "source": [
    "plt.figure(figsize=(15,5))\n",
    "# plt.subplot(1,2,1)\n",
    "# plt.plot(history.history['accuracy'], color='teal', label='Train accuracy')\n",
    "# plt.plot(history.history['val_accuracy'], color='red', label='Validation accuracy')\n",
    "# plt.title('Train vs Validation Accuracy')\n",
    "# plt.xlabel('Number of Epochs')\n",
    "# plt.legend()\n",
    "plt.subplot(1,1,1)\n",
    "plt.plot(history.history['loss'], color='teal', label='Train Loss')\n",
    "plt.plot(history.history['val_loss'], color='red', label='Validation Loss')\n",
    "plt.title('Train vs Validation Loss')\n",
    "plt.xlabel('Number of Epochs')\n",
    "plt.legend()\n",
    "plt.show();\n",
    "history.history['loss'][-1]"
   ]
  },
  {
   "cell_type": "code",
   "execution_count": 15,
   "id": "bef8dd69",
   "metadata": {},
   "outputs": [],
   "source": [
    "# Defining function to predict datas\n",
    "def predicting(data, y_real):\n",
    "    predicted_data = model.predict(data)\n",
    "    # Invert scaling process to get the normal values range for the features \n",
    "    predicted_data = scaler.inverse_transform(predicted_data)\n",
    "    y_real = scaler.inverse_transform(y_real)\n",
    "    \n",
    "    return predicted_data, y_real"
   ]
  },
  {
   "cell_type": "code",
   "execution_count": 16,
   "id": "8e4f2a14",
   "metadata": {},
   "outputs": [
    {
     "name": "stdout",
     "output_type": "stream",
     "text": [
      "295/295 [==============================] - 0s 234us/step\n",
      "73/73 [==============================] - 0s 232us/step\n"
     ]
    }
   ],
   "source": [
    "# Executing predictions\n",
    "train_prediction, y_train = predicting(X_train, y_train)\n",
    "test_prediction, y_test = predicting(X_test, y_test)"
   ]
  },
  {
   "cell_type": "code",
   "execution_count": 17,
   "id": "ecf057da",
   "metadata": {},
   "outputs": [],
   "source": [
    "# Defining function to investigate the root of mean squared errors (RMSE) between predicted and real data\n",
    "\n",
    "import math\n",
    "from sklearn.metrics import mean_absolute_percentage_error as mape\n",
    "from sklearn.metrics import mean_absolute_error as mae\n",
    "from sklearn.metrics import mean_squared_error\n",
    "from sklearn.metrics import accuracy_score\n",
    "\n",
    "def examine(y_data, predicted_data):\n",
    "    score_mape = mape(y_data[:,0], predicted_data[:,0])\n",
    "    score_mae = mae(y_data[:,0], predicted_data[:,0])\n",
    "    score_rmse = math.sqrt(mean_squared_error(y_data[:,0], predicted_data[:,0]))\n",
    "    \n",
    "    print('RMSE       : ', score_rmse)\n",
    "    print('MAPE       : ', score_mape)\n",
    "    print('MAE       : ', score_mae)\n",
    "  \n",
    "\n",
    "\n",
    "    \n"
   ]
  },
  {
   "cell_type": "code",
   "execution_count": 18,
   "id": "5f1c25f9",
   "metadata": {},
   "outputs": [
    {
     "name": "stdout",
     "output_type": "stream",
     "text": [
      "Trainin Data Errors\n",
      "RMSE       :  0.07326512361457906\n",
      "MAPE       :  0.10183118952769435\n",
      "MAE       :  0.05454079562149074\n",
      "None \n",
      "\n",
      "Test Data Errors\n",
      "RMSE       :  0.059466299367642105\n",
      "MAPE       :  0.10275055763436827\n",
      "MAE       :  0.04409805882079319\n",
      "None \n",
      "\n"
     ]
    }
   ],
   "source": [
    "# Executing the RMSE comparison\n",
    "print('Trainin Data Errors')\n",
    "print(examine(y_train, train_prediction),'\\n')\n",
    "# print(examine_mae(y_train, train_prediction),'\\n')\n",
    "# print(examine_r2(y_train, train_prediction),'\\n')\n",
    "\n",
    "print('Test Data Errors')\n",
    "print(examine(y_test, test_prediction),'\\n')\n",
    "# print(examine_mae(y_test, test_prediction),'\\n')\n",
    "# print(examine_r2(y_test, test_prediction))\n"
   ]
  },
  {
   "cell_type": "code",
   "execution_count": 19,
   "id": "5e70c13e",
   "metadata": {},
   "outputs": [
    {
     "data": {
      "image/png": "[encoded data removed]",
      "text/plain": [
       "<Figure size 1700x2500 with 1 Axes>"
      ]
     },
     "metadata": {},
     "output_type": "display_data"
    }
   ],
   "source": [
    "\n",
    "plt.figure(figsize=(17,25))\n",
    "\n",
    "\n",
    "plt.subplot(6,2,1)\n",
    "plt.plot(test_prediction[1300:,0], color='red', alpha=0.7, label='prediction')\n",
    "plt.plot(y_test[1300:,0], color='teal', alpha=0.5, label='real')\n",
    "plt.title('Sea Surface Temperature')\n",
    "plt.legend()\n",
    "\n",
    "\n",
    "# plt.subplot(6,2,2)\n",
    "# plt.plot(test_prediction[1300:,1], color='red', alpha=0.7, label='prediction')\n",
    "# plt.plot(y_test[1300:,1], color='teal', alpha=0.5, label='real')\n",
    "# plt.title('Maximum Wave Height')\n",
    "# plt.legend()\n",
    "\n",
    "\n",
    "# plt.subplot(6,2,3)\n",
    "# plt.plot(test_prediction[1300:,2], color='red', alpha=0.7, label='prediction')\n",
    "# plt.plot(y_test[1300:,2], color='teal', alpha=0.5, label='real')\n",
    "# plt.title('Zero Upcrossing Wave Period')\n",
    "# plt.legend()\n",
    "\n",
    "\n",
    "# plt.subplot(6,2,4)\n",
    "# plt.plot(test_prediction[1300:,3], color='red', alpha=0.7, label='prediction')\n",
    "# plt.plot(y_test[1300:,3], color='teal', alpha=0.5, label='real')\n",
    "# plt.title('Peak Energy Wave Period')\n",
    "# plt.legend()\n",
    "\n",
    "\n",
    "# plt.subplot(6,2,5)\n",
    "# plt.plot(test_prediction[1300:,4], color='red', alpha=0.7, label='prediction')\n",
    "# plt.plot(y_test[1300:,4], color='teal', alpha=0.5, label='real')\n",
    "# plt.title('Direction Related to True North')\n",
    "# plt.legend()\n",
    "\n",
    "\n",
    "# plt.subplot(6,2,6)\n",
    "# plt.plot(test_prediction[1300:,5], color='red', alpha=0.7, label='prediction')\n",
    "# plt.plot(y_test[1300:,5], color='teal', alpha=0.5, label='real')\n",
    "# plt.title('Sea Surface Temperature')\n",
    "# plt.legend()\n",
    "\n",
    "plt.show();\n"
   ]
  },
  {
   "cell_type": "code",
   "execution_count": null,
   "id": "528a603a",
   "metadata": {},
   "outputs": [],
   "source": []
  },
  {
   "cell_type": "code",
   "execution_count": null,
   "id": "f57ae02f",
   "metadata": {},
   "outputs": [],
   "source": []
  },
  {
   "cell_type": "code",
   "execution_count": null,
   "id": "2072f724",
   "metadata": {},
   "outputs": [],
   "source": []
  }
 ],
 "metadata": {
  "kernelspec": {
   "display_name": "Python 3 (ipykernel)",
   "language": "python",
   "name": "python3"
  },
  "language_info": {
   "codemirror_mode": {
    "name": "ipython",
    "version": 3
   },
   "file_extension": ".py",
   "mimetype": "text/x-python",
   "name": "python",
   "nbconvert_exporter": "python",
   "pygments_lexer": "ipython3",
   "version": "3.10.9"
  }
 },
 "nbformat": 4,
 "nbformat_minor": 5
}
